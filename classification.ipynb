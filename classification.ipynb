{
  "nbformat": 4,
  "nbformat_minor": 0,
  "metadata": {
    "kernelspec": {
      "display_name": "Python 3",
      "language": "python",
      "name": "python3"
    },
    "language_info": {
      "codemirror_mode": {
        "name": "ipython",
        "version": 3
      },
      "file_extension": ".py",
      "mimetype": "text/x-python",
      "name": "python",
      "nbconvert_exporter": "python",
      "pygments_lexer": "ipython3",
      "version": "3.8.4"
    },
    "colab": {
      "name": "1.ipynb",
      "provenance": []
    }
  },
  "cells": [
    {
      "cell_type": "code",
      "metadata": {
        "id": "FjouGrrjiHdA",
        "colab_type": "code",
        "colab": {}
      },
      "source": [
        "import cv2\n",
        "import numpy as np\n",
        "import pandas as pd\n",
        "import os\n",
        "from random import shuffle\n",
        "from tqdm import tqdm\n",
        "import matplotlib.pyplot as plt"
      ],
      "execution_count": null,
      "outputs": []
    },
    {
      "cell_type": "code",
      "metadata": {
        "id": "Rdd3YuxLiHdD",
        "colab_type": "code",
        "colab": {},
        "outputId": "fb649ac9-7b05-4721-fde4-84c68b9c95e6"
      },
      "source": [
        "os.getcwd()"
      ],
      "execution_count": null,
      "outputs": [
        {
          "output_type": "execute_result",
          "data": {
            "text/plain": [
              "'/home/jovyan/work'"
            ]
          },
          "metadata": {
            "tags": []
          },
          "execution_count": 29
        }
      ]
    },
    {
      "cell_type": "code",
      "metadata": {
        "id": "cgamdVngiHdF",
        "colab_type": "code",
        "colab": {}
      },
      "source": [
        "GOTHIC_DIR = '../../../tmp/training_images/gothic'\n",
        "ROMANESQUE_DIR = '/./../../tmp/training_images/romanesque'\n",
        "\n",
        "IMG_SIZE = 50\n",
        "LR = 1e-3\n",
        "\n",
        "MODEL_NAME = 'gothicvsromanesque-{}-{}.model'.format(LR, '2conv-basic')"
      ],
      "execution_count": null,
      "outputs": []
    },
    {
      "cell_type": "code",
      "metadata": {
        "id": "W3SBmlL8iHdH",
        "colab_type": "code",
        "colab": {}
      },
      "source": [
        "# def label_img(name):\n",
        "#     word_label = name.split('-')[0]\n",
        "#     if word_label == 'gothic': return np.array([1, 0])\n",
        "#     elif word_label == 'romanesque' : return np.array([0, 1])"
      ],
      "execution_count": null,
      "outputs": []
    },
    {
      "cell_type": "code",
      "metadata": {
        "id": "f9k-sF6fiHdJ",
        "colab_type": "code",
        "colab": {}
      },
      "source": [
        "def create_gothic():\n",
        "    gothic_data = []\n",
        "    for img in tqdm(os.listdir(GOTHIC_DIR)):\n",
        "        label = np.array([1, 0])\n",
        "        path = os.path.join(GOTHIC_DIR, img)\n",
        "        img = cv2.resize(cv2.imread(path, cv2.IMREAD_GRAYSCALE), (IMG_SIZE, IMG_SIZE))\n",
        "        gothic_data.append([np.array(img), label])\n",
        "    shuffle(gothic_data)\n",
        "    np.save('gothic_data.npy', gothic_data)\n",
        "    return gothic_data\n",
        "    \n",
        "    \n",
        "def create_roman():\n",
        "    roman_data = []\n",
        "    for img in tqdm(os.listdir(ROMANESQUE_DIR)):\n",
        "        label = np.array([0, 1])\n",
        "        path = os.path.join(ROMANESQUE_DIR, img)\n",
        "        img = cv2.resize(cv2.imread(path, cv2.IMREAD_GRAYSCALE), (IMG_SIZE, IMG_SIZE))\n",
        "        roman_data.append([np.array(img), label])\n",
        "    shuffle(roman_data)\n",
        "    np.save('roman_data.npy', roman_data)\n",
        "    return roman_data"
      ],
      "execution_count": null,
      "outputs": []
    },
    {
      "cell_type": "code",
      "metadata": {
        "id": "Arj6u6x5iHdL",
        "colab_type": "code",
        "colab": {},
        "outputId": "e79c06e9-2488-48e8-90da-9a77136b6c22"
      },
      "source": [
        "gothic_data = create_gothic()\n",
        "roman_data = create_roman()"
      ],
      "execution_count": null,
      "outputs": [
        {
          "output_type": "stream",
          "text": [
            "100%|██████████| 162/162 [00:02<00:00, 60.93it/s]\n",
            "/opt/conda/lib/python3.8/site-packages/numpy/core/_asarray.py:136: VisibleDeprecationWarning: Creating an ndarray from ragged nested sequences (which is a list-or-tuple of lists-or-tuples-or ndarrays with different lengths or shapes) is deprecated. If you meant to do this, you must specify 'dtype=object' when creating the ndarray\n",
            "  \n",
            "100%|██████████| 290/290 [00:02<00:00, 116.62it/s]\n"
          ],
          "name": "stderr"
        }
      ]
    },
    {
      "cell_type": "code",
      "metadata": {
        "id": "NTgUe8tNiHdN",
        "colab_type": "code",
        "colab": {}
      },
      "source": [
        "def create_train_data():\n",
        "    training_data = []\n",
        "\n",
        "    for img in gothic_data:\n",
        "        training_data.append(img)\n",
        "\n",
        "    for img in roman_data:\n",
        "        training_data.append(img)\n",
        "    \n",
        "    shuffle(training_data)\n",
        "    np.save('training_data.npy', training_data)\n",
        "    return training_data"
      ],
      "execution_count": null,
      "outputs": []
    },
    {
      "cell_type": "code",
      "metadata": {
        "id": "ZFeYrNeKiHdP",
        "colab_type": "code",
        "colab": {}
      },
      "source": [
        "train_data = create_train_data()\n",
        "train_data"
      ],
      "execution_count": null,
      "outputs": []
    },
    {
      "cell_type": "code",
      "metadata": {
        "id": "veWQfJS1iHdR",
        "colab_type": "code",
        "colab": {},
        "outputId": "59850d6c-549e-456c-b9b2-baa6f82cac2a"
      },
      "source": [
        "df = pd.DataFrame(train_data)\n",
        "df.columns = ['image', 'label']\n",
        "df"
      ],
      "execution_count": null,
      "outputs": [
        {
          "output_type": "execute_result",
          "data": {
            "text/html": [
              "<div>\n",
              "<style scoped>\n",
              "    .dataframe tbody tr th:only-of-type {\n",
              "        vertical-align: middle;\n",
              "    }\n",
              "\n",
              "    .dataframe tbody tr th {\n",
              "        vertical-align: top;\n",
              "    }\n",
              "\n",
              "    .dataframe thead th {\n",
              "        text-align: right;\n",
              "    }\n",
              "</style>\n",
              "<table border=\"1\" class=\"dataframe\">\n",
              "  <thead>\n",
              "    <tr style=\"text-align: right;\">\n",
              "      <th></th>\n",
              "      <th>image</th>\n",
              "      <th>label</th>\n",
              "    </tr>\n",
              "  </thead>\n",
              "  <tbody>\n",
              "    <tr>\n",
              "      <th>0</th>\n",
              "      <td>[[201, 201, 203, 205, 207, 208, 210, 212, 215,...</td>\n",
              "      <td>[0, 1]</td>\n",
              "    </tr>\n",
              "    <tr>\n",
              "      <th>1</th>\n",
              "      <td>[[92, 96, 95, 97, 97, 98, 97, 97, 98, 96, 96, ...</td>\n",
              "      <td>[0, 1]</td>\n",
              "    </tr>\n",
              "    <tr>\n",
              "      <th>2</th>\n",
              "      <td>[[90, 95, 95, 96, 97, 99, 105, 109, 109, 106, ...</td>\n",
              "      <td>[1, 0]</td>\n",
              "    </tr>\n",
              "    <tr>\n",
              "      <th>3</th>\n",
              "      <td>[[180, 177, 181, 179, 179, 181, 186, 193, 195,...</td>\n",
              "      <td>[0, 1]</td>\n",
              "    </tr>\n",
              "    <tr>\n",
              "      <th>4</th>\n",
              "      <td>[[155, 108, 192, 137, 129, 151, 58, 158, 155, ...</td>\n",
              "      <td>[1, 0]</td>\n",
              "    </tr>\n",
              "    <tr>\n",
              "      <th>...</th>\n",
              "      <td>...</td>\n",
              "      <td>...</td>\n",
              "    </tr>\n",
              "    <tr>\n",
              "      <th>447</th>\n",
              "      <td>[[62, 43, 107, 68, 47, 49, 35, 33, 28, 37, 28,...</td>\n",
              "      <td>[1, 0]</td>\n",
              "    </tr>\n",
              "    <tr>\n",
              "      <th>448</th>\n",
              "      <td>[[44, 40, 36, 34, 34, 33, 43, 47, 51, 62, 72, ...</td>\n",
              "      <td>[0, 1]</td>\n",
              "    </tr>\n",
              "    <tr>\n",
              "      <th>449</th>\n",
              "      <td>[[85, 97, 95, 100, 108, 99, 102, 107, 106, 113...</td>\n",
              "      <td>[0, 1]</td>\n",
              "    </tr>\n",
              "    <tr>\n",
              "      <th>450</th>\n",
              "      <td>[[212, 172, 42, 34, 22, 38, 234, 252, 193, 182...</td>\n",
              "      <td>[1, 0]</td>\n",
              "    </tr>\n",
              "    <tr>\n",
              "      <th>451</th>\n",
              "      <td>[[207, 137, 95, 60, 151, 170, 154, 155, 168, 1...</td>\n",
              "      <td>[1, 0]</td>\n",
              "    </tr>\n",
              "  </tbody>\n",
              "</table>\n",
              "<p>452 rows × 2 columns</p>\n",
              "</div>"
            ],
            "text/plain": [
              "                                                 image   label\n",
              "0    [[201, 201, 203, 205, 207, 208, 210, 212, 215,...  [0, 1]\n",
              "1    [[92, 96, 95, 97, 97, 98, 97, 97, 98, 96, 96, ...  [0, 1]\n",
              "2    [[90, 95, 95, 96, 97, 99, 105, 109, 109, 106, ...  [1, 0]\n",
              "3    [[180, 177, 181, 179, 179, 181, 186, 193, 195,...  [0, 1]\n",
              "4    [[155, 108, 192, 137, 129, 151, 58, 158, 155, ...  [1, 0]\n",
              "..                                                 ...     ...\n",
              "447  [[62, 43, 107, 68, 47, 49, 35, 33, 28, 37, 28,...  [1, 0]\n",
              "448  [[44, 40, 36, 34, 34, 33, 43, 47, 51, 62, 72, ...  [0, 1]\n",
              "449  [[85, 97, 95, 100, 108, 99, 102, 107, 106, 113...  [0, 1]\n",
              "450  [[212, 172, 42, 34, 22, 38, 234, 252, 193, 182...  [1, 0]\n",
              "451  [[207, 137, 95, 60, 151, 170, 154, 155, 168, 1...  [1, 0]\n",
              "\n",
              "[452 rows x 2 columns]"
            ]
          },
          "metadata": {
            "tags": []
          },
          "execution_count": 90
        }
      ]
    },
    {
      "cell_type": "code",
      "metadata": {
        "id": "88lAfOlhiHdT",
        "colab_type": "code",
        "colab": {},
        "outputId": "4547b3ed-3f64-4a36-a6ec-10d7628a54c7"
      },
      "source": [
        "img_array = df['image'][2]\n",
        "new_array = cv2.resize(img_array, (IMG_SIZE, IMG_SIZE))\n",
        "\n",
        "plt.imshow(new_array, cmap='gray')\n",
        "plt.show()"
      ],
      "execution_count": null,
      "outputs": [
        {
          "output_type": "display_data",
          "data": {
            "image/png": "[encoded data removed]",
            "text/plain": [
              "<Figure size 432x288 with 1 Axes>"
            ]
          },
          "metadata": {
            "tags": [],
            "needs_background": "light"
          }
        }
      ]
    },
    {
      "cell_type": "code",
      "metadata": {
        "id": "N-ukMC0iiHdV",
        "colab_type": "code",
        "colab": {}
      },
      "source": [
        "X = np.array([i[0] for i in train_data]).reshape(-1, IMG_SIZE, IMG_SIZE, 1)\n",
        "Y = np.array([i[1] for i in train_data])\n",
        "\n",
        "# test_x = np.array([i[0] for i in test]).reshape(-1, IMG_SIZE, IMG_SIZE, 1)\n",
        "# test_y = np.array([i[1] for i in test]).reshape(-1)\n",
        "\n",
        "#Y_coded = pd.get_dummies(Y).values\n",
        "#test_y_coded = pd.get_dummies(test_y).values\n",
        "\n",
        "#X = X/255.0\n",
        "#test_x = test_x/255.0\n"
      ],
      "execution_count": null,
      "outputs": []
    },
    {
      "cell_type": "code",
      "metadata": {
        "id": "2y4BX9qniHdW",
        "colab_type": "code",
        "colab": {},
        "outputId": "0a83c4c0-b157-413d-9d71-96b2159621aa"
      },
      "source": [
        "from sklearn.preprocessing import LabelBinarizer\n",
        "encoder = LabelBinarizer()\n",
        "\n",
        "transfomed_label = encoder.fit_transform(Y)\n",
        "\n",
        "from keras.utils import to_categorical\n",
        "\n",
        "Y_coded = to_categorical(transfomed_label)\n",
        "Y_coded.shape"
      ],
      "execution_count": null,
      "outputs": [
        {
          "output_type": "execute_result",
          "data": {
            "text/plain": [
              "(452, 2, 2)"
            ]
          },
          "metadata": {
            "tags": []
          },
          "execution_count": 102
        }
      ]
    },
    {
      "cell_type": "code",
      "metadata": {
        "id": "4KRxfVjyiHdY",
        "colab_type": "code",
        "colab": {},
        "outputId": "c670613c-f778-4d02-f4e5-66cf57fe19fd"
      },
      "source": [
        "Y_coded.reshape(-1, 1).shape"
      ],
      "execution_count": null,
      "outputs": [
        {
          "output_type": "execute_result",
          "data": {
            "text/plain": [
              "(1808, 1)"
            ]
          },
          "metadata": {
            "tags": []
          },
          "execution_count": 103
        }
      ]
    },
    {
      "cell_type": "code",
      "metadata": {
        "id": "EXj3Y4qgiHda",
        "colab_type": "code",
        "colab": {}
      },
      "source": [
        "from keras.models import Sequential\n",
        "from keras.layers import Dense, Conv2D, MaxPool2D, Flatten, Dropout, Activation, BatchNormalization, MaxPooling2D"
      ],
      "execution_count": null,
      "outputs": []
    },
    {
      "cell_type": "code",
      "metadata": {
        "id": "4EWNee84iHdb",
        "colab_type": "code",
        "colab": {},
        "outputId": "895e6bd5-a4dd-4a67-f170-03f6b67320be"
      },
      "source": [
        "X.shape[1:]"
      ],
      "execution_count": null,
      "outputs": [
        {
          "output_type": "execute_result",
          "data": {
            "text/plain": [
              "(50, 50, 1)"
            ]
          },
          "metadata": {
            "tags": []
          },
          "execution_count": 109
        }
      ]
    },
    {
      "cell_type": "code",
      "metadata": {
        "id": "FBC10rWpiHdd",
        "colab_type": "code",
        "colab": {}
      },
      "source": [
        "model_1 = Sequential()\n",
        "model_1.add(Conv2D(12, (3,3), input_shape=X.shape[1:]))\n",
        "model_1.add(Activation('relu'))\n",
        "model_1.add(MaxPooling2D(pool_size=(2,2)))\n",
        "\n",
        "model_1.add(Conv2D(12, (3,3), input_shape=X.shape[1:]))\n",
        "model_1.add(Activation('relu'))\n",
        "model_1.add(MaxPooling2D(pool_size=(2,2)))\n",
        "\n",
        "model_1.add(Flatten())\n",
        "model_1.add(Dense(12))\n",
        "model_1.add(Dense(2, activation = 'sigmoid'))"
      ],
      "execution_count": null,
      "outputs": []
    },
    {
      "cell_type": "code",
      "metadata": {
        "id": "oxKv4j9riHdf",
        "colab_type": "code",
        "colab": {},
        "outputId": "af5c8c0f-0316-46a6-a18a-b2bfe35049a1"
      },
      "source": [
        "model_1.summary()"
      ],
      "execution_count": null,
      "outputs": [
        {
          "output_type": "stream",
          "text": [
            "Model: \"sequential_9\"\n",
            "_________________________________________________________________\n",
            "Layer (type)                 Output Shape              Param #   \n",
            "=================================================================\n",
            "conv2d_17 (Conv2D)           (None, 48, 48, 12)        120       \n",
            "_________________________________________________________________\n",
            "activation_23 (Activation)   (None, 48, 48, 12)        0         \n",
            "_________________________________________________________________\n",
            "max_pooling2d_14 (MaxPooling (None, 24, 24, 12)        0         \n",
            "_________________________________________________________________\n",
            "conv2d_18 (Conv2D)           (None, 22, 22, 12)        1308      \n",
            "_________________________________________________________________\n",
            "activation_24 (Activation)   (None, 22, 22, 12)        0         \n",
            "_________________________________________________________________\n",
            "max_pooling2d_15 (MaxPooling (None, 11, 11, 12)        0         \n",
            "_________________________________________________________________\n",
            "flatten_9 (Flatten)          (None, 1452)              0         \n",
            "_________________________________________________________________\n",
            "dense_16 (Dense)             (None, 12)                17436     \n",
            "_________________________________________________________________\n",
            "dense_17 (Dense)             (None, 2)                 26        \n",
            "=================================================================\n",
            "Total params: 18,890\n",
            "Trainable params: 18,890\n",
            "Non-trainable params: 0\n",
            "_________________________________________________________________\n"
          ],
          "name": "stdout"
        }
      ]
    },
    {
      "cell_type": "code",
      "metadata": {
        "id": "d5b2G7BLiHdh",
        "colab_type": "code",
        "colab": {}
      },
      "source": [
        "model_1.compile(\n",
        "    optimizer='adam',\n",
        "    loss='binary_crossentropy', \n",
        "    metrics=['accuracy']\n",
        ")\n",
        "\n",
        "#model.compile(loss='categorical_crossentropy', optimizer=optimizer, metrics=['accuracy'])"
      ],
      "execution_count": null,
      "outputs": []
    },
    {
      "cell_type": "code",
      "metadata": {
        "id": "JgRhorDBiHdj",
        "colab_type": "code",
        "colab": {},
        "outputId": "39ce729e-4466-4ff0-91dd-b9fef7288dd1"
      },
      "source": [
        "model_1_training = model_1.fit(\n",
        "    X, Y, epochs=30, validation_split=0.2\n",
        ")"
      ],
      "execution_count": null,
      "outputs": [
        {
          "output_type": "stream",
          "text": [
            "Epoch 1/30\n",
            "12/12 [==============================] - 0s 18ms/step - loss: 0.0306 - accuracy: 0.9917 - val_loss: 0.8246 - val_accuracy: 0.8242\n",
            "Epoch 2/30\n",
            "12/12 [==============================] - 0s 15ms/step - loss: 0.0230 - accuracy: 0.9917 - val_loss: 0.8055 - val_accuracy: 0.8462\n",
            "Epoch 3/30\n",
            "12/12 [==============================] - 0s 15ms/step - loss: 0.0210 - accuracy: 0.9945 - val_loss: 0.9666 - val_accuracy: 0.8132\n",
            "Epoch 4/30\n",
            "12/12 [==============================] - 0s 16ms/step - loss: 0.0356 - accuracy: 0.9945 - val_loss: 0.7776 - val_accuracy: 0.8681\n",
            "Epoch 5/30\n",
            "12/12 [==============================] - 0s 17ms/step - loss: 0.0420 - accuracy: 0.9889 - val_loss: 0.8887 - val_accuracy: 0.8462\n",
            "Epoch 6/30\n",
            "12/12 [==============================] - 0s 16ms/step - loss: 0.0247 - accuracy: 0.9917 - val_loss: 0.8286 - val_accuracy: 0.8571\n",
            "Epoch 7/30\n",
            "12/12 [==============================] - 0s 15ms/step - loss: 0.0238 - accuracy: 0.9917 - val_loss: 0.9179 - val_accuracy: 0.8242\n",
            "Epoch 8/30\n",
            "12/12 [==============================] - 0s 15ms/step - loss: 0.0176 - accuracy: 0.9945 - val_loss: 0.9255 - val_accuracy: 0.8132\n",
            "Epoch 9/30\n",
            "12/12 [==============================] - 0s 15ms/step - loss: 0.0257 - accuracy: 0.9917 - val_loss: 0.8963 - val_accuracy: 0.8352\n",
            "Epoch 10/30\n",
            "12/12 [==============================] - 0s 16ms/step - loss: 0.0197 - accuracy: 0.9917 - val_loss: 0.8533 - val_accuracy: 0.8571\n",
            "Epoch 11/30\n",
            "12/12 [==============================] - 0s 16ms/step - loss: 0.0208 - accuracy: 0.9945 - val_loss: 0.9394 - val_accuracy: 0.8132\n",
            "Epoch 12/30\n",
            "12/12 [==============================] - 0s 17ms/step - loss: 0.0274 - accuracy: 0.9889 - val_loss: 0.9232 - val_accuracy: 0.8352\n",
            "Epoch 13/30\n",
            "12/12 [==============================] - 0s 16ms/step - loss: 0.0243 - accuracy: 0.9945 - val_loss: 0.9180 - val_accuracy: 0.8352\n",
            "Epoch 14/30\n",
            "12/12 [==============================] - 0s 17ms/step - loss: 0.0259 - accuracy: 0.9889 - val_loss: 0.9031 - val_accuracy: 0.8571\n",
            "Epoch 15/30\n",
            "12/12 [==============================] - 0s 19ms/step - loss: 0.0243 - accuracy: 0.9945 - val_loss: 1.0407 - val_accuracy: 0.8132\n",
            "Epoch 16/30\n",
            "12/12 [==============================] - 0s 16ms/step - loss: 0.0200 - accuracy: 0.9917 - val_loss: 0.8625 - val_accuracy: 0.8571\n",
            "Epoch 17/30\n",
            "12/12 [==============================] - 0s 16ms/step - loss: 0.0270 - accuracy: 0.9945 - val_loss: 1.0862 - val_accuracy: 0.8132\n",
            "Epoch 18/30\n",
            "12/12 [==============================] - 0s 15ms/step - loss: 0.0336 - accuracy: 0.9945 - val_loss: 0.8282 - val_accuracy: 0.8791\n",
            "Epoch 19/30\n",
            "12/12 [==============================] - 0s 15ms/step - loss: 0.0289 - accuracy: 0.9917 - val_loss: 0.9745 - val_accuracy: 0.8352\n",
            "Epoch 20/30\n",
            "12/12 [==============================] - 0s 15ms/step - loss: 0.0341 - accuracy: 0.9945 - val_loss: 0.8454 - val_accuracy: 0.8462\n",
            "Epoch 21/30\n",
            "12/12 [==============================] - 0s 15ms/step - loss: 0.0402 - accuracy: 0.9945 - val_loss: 0.9171 - val_accuracy: 0.8571\n",
            "Epoch 22/30\n",
            "12/12 [==============================] - 0s 15ms/step - loss: 0.0443 - accuracy: 0.9917 - val_loss: 1.1350 - val_accuracy: 0.8022\n",
            "Epoch 23/30\n",
            "12/12 [==============================] - 0s 15ms/step - loss: 0.0902 - accuracy: 0.9889 - val_loss: 0.9013 - val_accuracy: 0.8242\n",
            "Epoch 24/30\n",
            "12/12 [==============================] - 0s 15ms/step - loss: 0.0775 - accuracy: 0.9945 - val_loss: 0.8343 - val_accuracy: 0.9011\n",
            "Epoch 25/30\n",
            "12/12 [==============================] - 0s 15ms/step - loss: 0.0679 - accuracy: 0.9972 - val_loss: 0.9561 - val_accuracy: 0.8462\n",
            "Epoch 26/30\n",
            "12/12 [==============================] - 0s 15ms/step - loss: 0.0451 - accuracy: 0.9917 - val_loss: 0.8348 - val_accuracy: 0.8791\n",
            "Epoch 27/30\n",
            "12/12 [==============================] - 0s 15ms/step - loss: 0.0321 - accuracy: 0.9945 - val_loss: 0.9231 - val_accuracy: 0.8352\n",
            "Epoch 28/30\n",
            "12/12 [==============================] - 0s 15ms/step - loss: 0.0378 - accuracy: 0.9917 - val_loss: 1.1795 - val_accuracy: 0.7912\n",
            "Epoch 29/30\n",
            "12/12 [==============================] - 0s 15ms/step - loss: 0.0297 - accuracy: 0.9945 - val_loss: 0.7986 - val_accuracy: 0.9011\n",
            "Epoch 30/30\n",
            "12/12 [==============================] - 0s 15ms/step - loss: 0.0294 - accuracy: 0.9917 - val_loss: 1.2839 - val_accuracy: 0.7802\n"
          ],
          "name": "stdout"
        }
      ]
    }
  ]
}
